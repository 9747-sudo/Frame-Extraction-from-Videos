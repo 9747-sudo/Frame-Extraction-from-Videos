{
  "metadata": {
    "language_info": {
      "codemirror_mode": {
        "name": "ipython",
        "version": 3
      },
      "file_extension": ".py",
      "mimetype": "text/x-python",
      "name": "python",
      "nbconvert_exporter": "python",
      "pygments_lexer": "ipython3",
      "version": "3.7.3"
    },
    "orig_nbformat": 2,
    "kernelspec": {
      "name": "python373jvsc74a57bd09164a3399a70d355c381b62813f30880ed90ca5a6f321bf0d85375640bda7ee5",
      "display_name": "Python 3.7.3 64-bit"
    },
    "metadata": {
      "interpreter": {
        "hash": "9164a3399a70d355c381b62813f30880ed90ca5a6f321bf0d85375640bda7ee5"
      }
    },
    "colab": {
      "provenance": [],
      "include_colab_link": true
    }
  },
  "nbformat": 4,
  "nbformat_minor": 0,
  "cells": [
    {
      "cell_type": "markdown",
      "metadata": {
        "id": "view-in-github",
        "colab_type": "text"
      },
      "source": [
        "<a href=\"https://colab.research.google.com/github/9747-sudo/Frame-Extraction-from-Videos/blob/main/Extract_frames_from_videos.ipynb\" target=\"_parent\"><img src=\"https://colab.research.google.com/assets/colab-badge.svg\" alt=\"Open In Colab\"/></a>"
      ]
    },
    {
      "cell_type": "code",
      "source": [
        "from google.colab import drive\n",
        "drive.mount('/content/drive')"
      ],
      "metadata": {
        "colab": {
          "base_uri": "https://localhost:8080/"
        },
        "id": "dvAauh0jUMy4",
        "outputId": "dc9ce4cc-79ef-4d0f-d6e5-9892a5ae9eb5"
      },
      "execution_count": 2,
      "outputs": [
        {
          "output_type": "stream",
          "name": "stdout",
          "text": [
            "Drive already mounted at /content/drive; to attempt to forcibly remount, call drive.mount(\"/content/drive\", force_remount=True).\n"
          ]
        }
      ]
    },
    {
      "cell_type": "code",
      "execution_count": 3,
      "metadata": {
        "id": "PzR7nukLUJJ_"
      },
      "outputs": [],
      "source": [
        "import cv2\n",
        "import os"
      ]
    },
    {
      "cell_type": "code",
      "execution_count": 4,
      "metadata": {
        "colab": {
          "base_uri": "https://localhost:8080/"
        },
        "id": "1t6wCyGXUJKB",
        "outputId": "af19497a-2abd-4636-fb9c-0e67646f3f74"
      },
      "outputs": [
        {
          "output_type": "stream",
          "name": "stdout",
          "text": [
            "True\n"
          ]
        }
      ],
      "source": [
        "count = 0\n",
        "\n",
        "cap = cv2.VideoCapture('/content/drive/MyDrive/Projects/Frame Extraction from Videos/videos/newfi20.avi')\n",
        "success, image = cap.read()\n",
        "\n",
        "#creating a folder if it doesn't exist\n",
        "if not os.path.exists('./frames'):\n",
        "    os.mkdir('./frames')\n",
        "print(success)\n",
        "while success:\n",
        "    success, image = cap.read()\n",
        "\n",
        "    if not success:\n",
        "        break\n",
        "\n",
        "    cv2.imwrite('./frames/' + str(count) + '.jpg' , image)\n",
        "\n",
        "    if cv2.waitKey(10) == 27:\n",
        "        break\n",
        "    count += 1"
      ]
    },
    {
      "cell_type": "code",
      "execution_count": 6,
      "metadata": {
        "colab": {
          "base_uri": "https://localhost:8080/"
        },
        "id": "D4QoM5QTUJKD",
        "outputId": "424406b1-f83b-4c31-c07f-cfc9cb18558f"
      },
      "outputs": [
        {
          "output_type": "stream",
          "name": "stdout",
          "text": [
            "True\n",
            "True\n",
            "True\n"
          ]
        }
      ],
      "source": [
        "count = 0\n",
        "for files in os.listdir('/content/drive/MyDrive/Projects/Frame Extraction from Videos/videos/'):\n",
        "    cap = cv2.VideoCapture(os.path.join('/content/drive/MyDrive/Projects/Frame Extraction from Videos/videos/', files))\n",
        "    success, image = cap.read()\n",
        "\n",
        "    #creating a folder if it doesn't exist\n",
        "    if not os.path.exists('/content/drive/MyDrive/Projects/Frame Extraction from Videos/frames'):\n",
        "        os.mkdir('/content/drive/MyDrive/Projects/Frame Extraction from Videos/frames')\n",
        "    print(success)\n",
        "    while success:\n",
        "        success, image = cap.read()\n",
        "\n",
        "        if not success:\n",
        "            break\n",
        "\n",
        "        cv2.imwrite('/content/drive/MyDrive/Projects/Frame Extraction from Videos/frames/' + str(count) + '.jpg' , image)\n",
        "\n",
        "        if cv2.waitKey(10) == 27:\n",
        "            break\n",
        "        count += 1"
      ]
    },
    {
      "cell_type": "code",
      "execution_count": null,
      "metadata": {
        "id": "sL9qOQ7-UJKE"
      },
      "outputs": [],
      "source": []
    }
  ]
}